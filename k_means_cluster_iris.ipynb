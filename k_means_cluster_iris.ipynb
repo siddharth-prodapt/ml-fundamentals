{
 "cells": [
  {
   "cell_type": "code",
   "execution_count": 1,
   "id": "b94a55f4-dc3c-4725-8582-8c392e18a723",
   "metadata": {},
   "outputs": [],
   "source": [
    "import matplotlib.pyplot as plt\n",
    "from sklearn.datasets import load_iris\n",
    "import pandas as pd\n",
    "from sklearn.cluster import KMeans"
   ]
  },
  {
   "cell_type": "code",
   "execution_count": 2,
   "id": "be23ffc8-2f63-4b3f-8d34-b8c9a7a74f80",
   "metadata": {},
   "outputs": [],
   "source": [
    "data = load_iris()"
   ]
  },
  {
   "cell_type": "code",
   "execution_count": 3,
   "id": "9a55578c-5779-422e-8be7-34cf0b362560",
   "metadata": {},
   "outputs": [
    {
     "data": {
      "text/plain": [
       "['DESCR',\n",
       " 'data',\n",
       " 'data_module',\n",
       " 'feature_names',\n",
       " 'filename',\n",
       " 'frame',\n",
       " 'target',\n",
       " 'target_names']"
      ]
     },
     "execution_count": 3,
     "metadata": {},
     "output_type": "execute_result"
    }
   ],
   "source": [
    "dir(data)"
   ]
  },
  {
   "cell_type": "code",
   "execution_count": 4,
   "id": "4ec3a9a1-9d6e-4823-bbe9-685b0c75531d",
   "metadata": {},
   "outputs": [
    {
     "data": {
      "text/plain": [
       "['sepal length (cm)',\n",
       " 'sepal width (cm)',\n",
       " 'petal length (cm)',\n",
       " 'petal width (cm)']"
      ]
     },
     "execution_count": 4,
     "metadata": {},
     "output_type": "execute_result"
    }
   ],
   "source": [
    "data.feature_names"
   ]
  },
  {
   "cell_type": "code",
   "execution_count": 5,
   "id": "a76b7e77-f230-4b82-9be3-c8306a10c9ce",
   "metadata": {},
   "outputs": [],
   "source": [
    "import matplotlib.pyplot as plt\n",
    "import numpy as np"
   ]
  },
  {
   "cell_type": "code",
   "execution_count": 6,
   "id": "6b169faf-1ce3-4df5-ba08-ef7427a573b8",
   "metadata": {},
   "outputs": [],
   "source": [
    "data_np = np.array(data.data)\n",
    "df = pd.DataFrame(data_np)"
   ]
  },
  {
   "cell_type": "code",
   "execution_count": 7,
   "id": "39bb1800-4ca9-447c-b479-99fa697dcdf5",
   "metadata": {},
   "outputs": [],
   "source": [
    "df['petal_length'] = df[2]\n",
    "df['petal_width'] = df[3]\n",
    "df = df.drop(axis = 'column', columns=[0,1,2,3])"
   ]
  },
  {
   "cell_type": "code",
   "execution_count": 8,
   "id": "32264a47-e2a8-4b0b-86cc-cf350048308a",
   "metadata": {},
   "outputs": [
    {
     "data": {
      "text/html": [
       "<div>\n",
       "<style scoped>\n",
       "    .dataframe tbody tr th:only-of-type {\n",
       "        vertical-align: middle;\n",
       "    }\n",
       "\n",
       "    .dataframe tbody tr th {\n",
       "        vertical-align: top;\n",
       "    }\n",
       "\n",
       "    .dataframe thead th {\n",
       "        text-align: right;\n",
       "    }\n",
       "</style>\n",
       "<table border=\"1\" class=\"dataframe\">\n",
       "  <thead>\n",
       "    <tr style=\"text-align: right;\">\n",
       "      <th></th>\n",
       "      <th>petal_length</th>\n",
       "      <th>petal_width</th>\n",
       "    </tr>\n",
       "  </thead>\n",
       "  <tbody>\n",
       "    <tr>\n",
       "      <th>0</th>\n",
       "      <td>1.4</td>\n",
       "      <td>0.2</td>\n",
       "    </tr>\n",
       "    <tr>\n",
       "      <th>1</th>\n",
       "      <td>1.4</td>\n",
       "      <td>0.2</td>\n",
       "    </tr>\n",
       "    <tr>\n",
       "      <th>2</th>\n",
       "      <td>1.3</td>\n",
       "      <td>0.2</td>\n",
       "    </tr>\n",
       "    <tr>\n",
       "      <th>3</th>\n",
       "      <td>1.5</td>\n",
       "      <td>0.2</td>\n",
       "    </tr>\n",
       "    <tr>\n",
       "      <th>4</th>\n",
       "      <td>1.4</td>\n",
       "      <td>0.2</td>\n",
       "    </tr>\n",
       "    <tr>\n",
       "      <th>...</th>\n",
       "      <td>...</td>\n",
       "      <td>...</td>\n",
       "    </tr>\n",
       "    <tr>\n",
       "      <th>145</th>\n",
       "      <td>5.2</td>\n",
       "      <td>2.3</td>\n",
       "    </tr>\n",
       "    <tr>\n",
       "      <th>146</th>\n",
       "      <td>5.0</td>\n",
       "      <td>1.9</td>\n",
       "    </tr>\n",
       "    <tr>\n",
       "      <th>147</th>\n",
       "      <td>5.2</td>\n",
       "      <td>2.0</td>\n",
       "    </tr>\n",
       "    <tr>\n",
       "      <th>148</th>\n",
       "      <td>5.4</td>\n",
       "      <td>2.3</td>\n",
       "    </tr>\n",
       "    <tr>\n",
       "      <th>149</th>\n",
       "      <td>5.1</td>\n",
       "      <td>1.8</td>\n",
       "    </tr>\n",
       "  </tbody>\n",
       "</table>\n",
       "<p>150 rows × 2 columns</p>\n",
       "</div>"
      ],
      "text/plain": [
       "     petal_length  petal_width\n",
       "0             1.4          0.2\n",
       "1             1.4          0.2\n",
       "2             1.3          0.2\n",
       "3             1.5          0.2\n",
       "4             1.4          0.2\n",
       "..            ...          ...\n",
       "145           5.2          2.3\n",
       "146           5.0          1.9\n",
       "147           5.2          2.0\n",
       "148           5.4          2.3\n",
       "149           5.1          1.8\n",
       "\n",
       "[150 rows x 2 columns]"
      ]
     },
     "execution_count": 8,
     "metadata": {},
     "output_type": "execute_result"
    }
   ],
   "source": [
    "df"
   ]
  },
  {
   "cell_type": "code",
   "execution_count": 9,
   "id": "4197e3f7-2fba-4280-be59-710a7904176d",
   "metadata": {},
   "outputs": [
    {
     "data": {
      "text/plain": [
       "petal_length  petal_width\n",
       "False         False          150\n",
       "Name: count, dtype: int64"
      ]
     },
     "execution_count": 9,
     "metadata": {},
     "output_type": "execute_result"
    }
   ],
   "source": [
    "df.isnull().value_counts()"
   ]
  },
  {
   "cell_type": "code",
   "execution_count": 10,
   "id": "39d06ae8-8cb1-47c7-ba29-a999cf94194a",
   "metadata": {},
   "outputs": [
    {
     "data": {
      "text/plain": [
       "Text(0, 0.5, 'Petal Width')"
      ]
     },
     "execution_count": 10,
     "metadata": {},
     "output_type": "execute_result"
    },
    {
     "data": {
      "image/png": "[encoded data removed]",
      "text/plain": [
       "<Figure size 640x480 with 1 Axes>"
      ]
     },
     "metadata": {},
     "output_type": "display_data"
    }
   ],
   "source": [
    "\n",
    "x = df['petal_length']\n",
    "y = df['petal_width']\n",
    "\n",
    "plt.scatter(x, y)\n",
    "plt.title('Petal Length vs Petal Width')\n",
    "plt.xlabel('Petal Length')\n",
    "plt.ylabel('Petal Width')"
   ]
  },
  {
   "cell_type": "code",
   "execution_count": 11,
   "id": "071f3129-ad89-4ee9-b6de-8480d8afc1d7",
   "metadata": {},
   "outputs": [],
   "source": [
    "km = KMeans(n_clusters = 2)"
   ]
  },
  {
   "cell_type": "markdown",
   "id": "bbf03a35-ad76-4de7-896b-2ee5ea5df03e",
   "metadata": {},
   "source": [
    "## Value of K (SSD) and Elbow Plot"
   ]
  },
  {
   "cell_type": "code",
   "execution_count": 12,
   "id": "8a2d8cab-367c-4963-821d-66b96d25a56c",
   "metadata": {},
   "outputs": [],
   "source": [
    "sse = []\n",
    "k_range = range(1, 11)\n",
    "for k in k_range:\n",
    "    km = KMeans(n_clusters = k)\n",
    "    km.fit(df[['petal_length', 'petal_width']])\n",
    "    # km.inertia gives squraed distance\n",
    "    sse.append(km.inertia_)"
   ]
  },
  {
   "cell_type": "code",
   "execution_count": 13,
   "id": "79b0bf30-4b62-40f7-9158-72d1e0b036bf",
   "metadata": {},
   "outputs": [
    {
     "data": {
      "text/plain": [
       "Text(0.5, 1.0, 'Elbow Plot')"
      ]
     },
     "execution_count": 13,
     "metadata": {},
     "output_type": "execute_result"
    },
    {
     "data": {
      "image/png": "[encoded data removed]",
      "text/plain": [
       "<Figure size 640x480 with 1 Axes>"
      ]
     },
     "metadata": {},
     "output_type": "display_data"
    }
   ],
   "source": [
    "plt.plot(k_range, sse)\n",
    "plt.xlabel('Value of K')\n",
    "plt.ylabel('SSE')\n",
    "plt.title('Elbow Plot')"
   ]
  },
  {
   "cell_type": "markdown",
   "id": "80263a44-06f9-4a1b-b649-313cc27b63de",
   "metadata": {},
   "source": [
    "### K = 3 "
   ]
  },
  {
   "cell_type": "code",
   "execution_count": 17,
   "id": "4d968e53-98d3-4de3-90c5-85a5ce633ffc",
   "metadata": {},
   "outputs": [],
   "source": [
    "km = KMeans(n_clusters = 3)\n",
    "cluster = km.fit_predict(df[['petal_length', 'petal_width']])"
   ]
  },
  {
   "cell_type": "code",
   "execution_count": 19,
   "id": "978b56a9-34ae-438b-b040-0f73e58fd526",
   "metadata": {},
   "outputs": [
    {
     "data": {
      "text/html": [
       "<div>\n",
       "<style scoped>\n",
       "    .dataframe tbody tr th:only-of-type {\n",
       "        vertical-align: middle;\n",
       "    }\n",
       "\n",
       "    .dataframe tbody tr th {\n",
       "        vertical-align: top;\n",
       "    }\n",
       "\n",
       "    .dataframe thead th {\n",
       "        text-align: right;\n",
       "    }\n",
       "</style>\n",
       "<table border=\"1\" class=\"dataframe\">\n",
       "  <thead>\n",
       "    <tr style=\"text-align: right;\">\n",
       "      <th></th>\n",
       "      <th>petal_length</th>\n",
       "      <th>petal_width</th>\n",
       "      <th>cluster</th>\n",
       "    </tr>\n",
       "  </thead>\n",
       "  <tbody>\n",
       "    <tr>\n",
       "      <th>0</th>\n",
       "      <td>1.4</td>\n",
       "      <td>0.2</td>\n",
       "      <td>1</td>\n",
       "    </tr>\n",
       "    <tr>\n",
       "      <th>1</th>\n",
       "      <td>1.4</td>\n",
       "      <td>0.2</td>\n",
       "      <td>1</td>\n",
       "    </tr>\n",
       "    <tr>\n",
       "      <th>2</th>\n",
       "      <td>1.3</td>\n",
       "      <td>0.2</td>\n",
       "      <td>1</td>\n",
       "    </tr>\n",
       "    <tr>\n",
       "      <th>3</th>\n",
       "      <td>1.5</td>\n",
       "      <td>0.2</td>\n",
       "      <td>1</td>\n",
       "    </tr>\n",
       "    <tr>\n",
       "      <th>4</th>\n",
       "      <td>1.4</td>\n",
       "      <td>0.2</td>\n",
       "      <td>1</td>\n",
       "    </tr>\n",
       "  </tbody>\n",
       "</table>\n",
       "</div>"
      ],
      "text/plain": [
       "   petal_length  petal_width  cluster\n",
       "0           1.4          0.2        1\n",
       "1           1.4          0.2        1\n",
       "2           1.3          0.2        1\n",
       "3           1.5          0.2        1\n",
       "4           1.4          0.2        1"
      ]
     },
     "execution_count": 19,
     "metadata": {},
     "output_type": "execute_result"
    }
   ],
   "source": [
    "df['cluster'] = cluster\n",
    "df.head()"
   ]
  },
  {
   "cell_type": "code",
   "execution_count": 20,
   "id": "a846231e-d256-44ac-ab85-1440fcbec01b",
   "metadata": {},
   "outputs": [
    {
     "data": {
      "text/plain": [
       "cluster\n",
       "2    52\n",
       "1    50\n",
       "0    48\n",
       "Name: count, dtype: int64"
      ]
     },
     "execution_count": 20,
     "metadata": {},
     "output_type": "execute_result"
    }
   ],
   "source": [
    "df['cluster'].value_counts()"
   ]
  },
  {
   "cell_type": "code",
   "execution_count": 23,
   "id": "4b11bb48-fe11-4679-bfdf-89b7f26a3307",
   "metadata": {},
   "outputs": [
    {
     "data": {
      "text/plain": [
       "Text(0.5, 1.0, 'Clustering plot petal len vs petal width')"
      ]
     },
     "execution_count": 23,
     "metadata": {},
     "output_type": "execute_result"
    },
    {
     "data": {
      "image/png": "[encoded data removed]",
      "text/plain": [
       "<Figure size 640x480 with 1 Axes>"
      ]
     },
     "metadata": {},
     "output_type": "display_data"
    }
   ],
   "source": [
    "df1 = df[df.cluster==0]\n",
    "df2 = df[df.cluster==1]\n",
    "df3 = df[df.cluster==2]\n",
    "\n",
    "plt.scatter(df1.petal_length, df1.petal_width, color = 'red')\n",
    "plt.scatter(df2.petal_length, df2.petal_width, color = 'green')\n",
    "plt.scatter(df3.petal_length, df3.petal_width, color = 'blue')\n",
    "plt.xlabel('Petal Length')\n",
    "plt.ylabel('Petal Width')\n",
    "plt.title('Clustering plot petal len vs petal width')"
   ]
  },
  {
   "cell_type": "code",
   "execution_count": 24,
   "id": "da1f551a-1fe0-428e-b846-14e23a4e73f5",
   "metadata": {},
   "outputs": [
    {
     "data": {
      "text/html": [
       "<div>\n",
       "<style scoped>\n",
       "    .dataframe tbody tr th:only-of-type {\n",
       "        vertical-align: middle;\n",
       "    }\n",
       "\n",
       "    .dataframe tbody tr th {\n",
       "        vertical-align: top;\n",
       "    }\n",
       "\n",
       "    .dataframe thead th {\n",
       "        text-align: right;\n",
       "    }\n",
       "</style>\n",
       "<table border=\"1\" class=\"dataframe\">\n",
       "  <thead>\n",
       "    <tr style=\"text-align: right;\">\n",
       "      <th></th>\n",
       "      <th>petal_length</th>\n",
       "      <th>petal_width</th>\n",
       "      <th>cluster</th>\n",
       "    </tr>\n",
       "  </thead>\n",
       "  <tbody>\n",
       "    <tr>\n",
       "      <th>0</th>\n",
       "      <td>1.4</td>\n",
       "      <td>0.2</td>\n",
       "      <td>1</td>\n",
       "    </tr>\n",
       "    <tr>\n",
       "      <th>1</th>\n",
       "      <td>1.4</td>\n",
       "      <td>0.2</td>\n",
       "      <td>1</td>\n",
       "    </tr>\n",
       "    <tr>\n",
       "      <th>2</th>\n",
       "      <td>1.3</td>\n",
       "      <td>0.2</td>\n",
       "      <td>1</td>\n",
       "    </tr>\n",
       "    <tr>\n",
       "      <th>3</th>\n",
       "      <td>1.5</td>\n",
       "      <td>0.2</td>\n",
       "      <td>1</td>\n",
       "    </tr>\n",
       "    <tr>\n",
       "      <th>4</th>\n",
       "      <td>1.4</td>\n",
       "      <td>0.2</td>\n",
       "      <td>1</td>\n",
       "    </tr>\n",
       "    <tr>\n",
       "      <th>...</th>\n",
       "      <td>...</td>\n",
       "      <td>...</td>\n",
       "      <td>...</td>\n",
       "    </tr>\n",
       "    <tr>\n",
       "      <th>145</th>\n",
       "      <td>5.2</td>\n",
       "      <td>2.3</td>\n",
       "      <td>0</td>\n",
       "    </tr>\n",
       "    <tr>\n",
       "      <th>146</th>\n",
       "      <td>5.0</td>\n",
       "      <td>1.9</td>\n",
       "      <td>0</td>\n",
       "    </tr>\n",
       "    <tr>\n",
       "      <th>147</th>\n",
       "      <td>5.2</td>\n",
       "      <td>2.0</td>\n",
       "      <td>0</td>\n",
       "    </tr>\n",
       "    <tr>\n",
       "      <th>148</th>\n",
       "      <td>5.4</td>\n",
       "      <td>2.3</td>\n",
       "      <td>0</td>\n",
       "    </tr>\n",
       "    <tr>\n",
       "      <th>149</th>\n",
       "      <td>5.1</td>\n",
       "      <td>1.8</td>\n",
       "      <td>0</td>\n",
       "    </tr>\n",
       "  </tbody>\n",
       "</table>\n",
       "<p>150 rows × 3 columns</p>\n",
       "</div>"
      ],
      "text/plain": [
       "     petal_length  petal_width  cluster\n",
       "0             1.4          0.2        1\n",
       "1             1.4          0.2        1\n",
       "2             1.3          0.2        1\n",
       "3             1.5          0.2        1\n",
       "4             1.4          0.2        1\n",
       "..            ...          ...      ...\n",
       "145           5.2          2.3        0\n",
       "146           5.0          1.9        0\n",
       "147           5.2          2.0        0\n",
       "148           5.4          2.3        0\n",
       "149           5.1          1.8        0\n",
       "\n",
       "[150 rows x 3 columns]"
      ]
     },
     "execution_count": 24,
     "metadata": {},
     "output_type": "execute_result"
    }
   ],
   "source": [
    "df"
   ]
  },
  {
   "cell_type": "code",
   "execution_count": 25,
   "id": "e8fcf68a-f5fd-4892-86cb-e68cb61b329f",
   "metadata": {},
   "outputs": [],
   "source": [
    "df['flower'] = data.target"
   ]
  },
  {
   "cell_type": "code",
   "execution_count": 26,
   "id": "df39b832-f61a-4dbb-b4b8-5862b2addc19",
   "metadata": {},
   "outputs": [
    {
     "data": {
      "text/html": [
       "<div>\n",
       "<style scoped>\n",
       "    .dataframe tbody tr th:only-of-type {\n",
       "        vertical-align: middle;\n",
       "    }\n",
       "\n",
       "    .dataframe tbody tr th {\n",
       "        vertical-align: top;\n",
       "    }\n",
       "\n",
       "    .dataframe thead th {\n",
       "        text-align: right;\n",
       "    }\n",
       "</style>\n",
       "<table border=\"1\" class=\"dataframe\">\n",
       "  <thead>\n",
       "    <tr style=\"text-align: right;\">\n",
       "      <th></th>\n",
       "      <th>petal_length</th>\n",
       "      <th>petal_width</th>\n",
       "      <th>cluster</th>\n",
       "      <th>flower</th>\n",
       "    </tr>\n",
       "  </thead>\n",
       "  <tbody>\n",
       "    <tr>\n",
       "      <th>0</th>\n",
       "      <td>1.4</td>\n",
       "      <td>0.2</td>\n",
       "      <td>1</td>\n",
       "      <td>0</td>\n",
       "    </tr>\n",
       "    <tr>\n",
       "      <th>1</th>\n",
       "      <td>1.4</td>\n",
       "      <td>0.2</td>\n",
       "      <td>1</td>\n",
       "      <td>0</td>\n",
       "    </tr>\n",
       "    <tr>\n",
       "      <th>2</th>\n",
       "      <td>1.3</td>\n",
       "      <td>0.2</td>\n",
       "      <td>1</td>\n",
       "      <td>0</td>\n",
       "    </tr>\n",
       "    <tr>\n",
       "      <th>3</th>\n",
       "      <td>1.5</td>\n",
       "      <td>0.2</td>\n",
       "      <td>1</td>\n",
       "      <td>0</td>\n",
       "    </tr>\n",
       "    <tr>\n",
       "      <th>4</th>\n",
       "      <td>1.4</td>\n",
       "      <td>0.2</td>\n",
       "      <td>1</td>\n",
       "      <td>0</td>\n",
       "    </tr>\n",
       "    <tr>\n",
       "      <th>...</th>\n",
       "      <td>...</td>\n",
       "      <td>...</td>\n",
       "      <td>...</td>\n",
       "      <td>...</td>\n",
       "    </tr>\n",
       "    <tr>\n",
       "      <th>145</th>\n",
       "      <td>5.2</td>\n",
       "      <td>2.3</td>\n",
       "      <td>0</td>\n",
       "      <td>2</td>\n",
       "    </tr>\n",
       "    <tr>\n",
       "      <th>146</th>\n",
       "      <td>5.0</td>\n",
       "      <td>1.9</td>\n",
       "      <td>0</td>\n",
       "      <td>2</td>\n",
       "    </tr>\n",
       "    <tr>\n",
       "      <th>147</th>\n",
       "      <td>5.2</td>\n",
       "      <td>2.0</td>\n",
       "      <td>0</td>\n",
       "      <td>2</td>\n",
       "    </tr>\n",
       "    <tr>\n",
       "      <th>148</th>\n",
       "      <td>5.4</td>\n",
       "      <td>2.3</td>\n",
       "      <td>0</td>\n",
       "      <td>2</td>\n",
       "    </tr>\n",
       "    <tr>\n",
       "      <th>149</th>\n",
       "      <td>5.1</td>\n",
       "      <td>1.8</td>\n",
       "      <td>0</td>\n",
       "      <td>2</td>\n",
       "    </tr>\n",
       "  </tbody>\n",
       "</table>\n",
       "<p>150 rows × 4 columns</p>\n",
       "</div>"
      ],
      "text/plain": [
       "     petal_length  petal_width  cluster  flower\n",
       "0             1.4          0.2        1       0\n",
       "1             1.4          0.2        1       0\n",
       "2             1.3          0.2        1       0\n",
       "3             1.5          0.2        1       0\n",
       "4             1.4          0.2        1       0\n",
       "..            ...          ...      ...     ...\n",
       "145           5.2          2.3        0       2\n",
       "146           5.0          1.9        0       2\n",
       "147           5.2          2.0        0       2\n",
       "148           5.4          2.3        0       2\n",
       "149           5.1          1.8        0       2\n",
       "\n",
       "[150 rows x 4 columns]"
      ]
     },
     "execution_count": 26,
     "metadata": {},
     "output_type": "execute_result"
    }
   ],
   "source": [
    "df"
   ]
  },
  {
   "cell_type": "code",
   "execution_count": 30,
   "id": "30d3dafc-1f9e-455b-9634-f83a2443812a",
   "metadata": {},
   "outputs": [
    {
     "name": "stdout",
     "output_type": "stream",
     "text": [
      "     petal_length  petal_width  cluster  flower\n",
      "0             1.4          0.2        1       0\n",
      "1             1.4          0.2        1       0\n",
      "2             1.3          0.2        1       0\n",
      "3             1.5          0.2        1       0\n",
      "4             1.4          0.2        1       0\n",
      "5             1.7          0.4        1       0\n",
      "6             1.4          0.3        1       0\n",
      "7             1.5          0.2        1       0\n",
      "8             1.4          0.2        1       0\n",
      "9             1.5          0.1        1       0\n",
      "10            1.5          0.2        1       0\n",
      "11            1.6          0.2        1       0\n",
      "12            1.4          0.1        1       0\n",
      "13            1.1          0.1        1       0\n",
      "14            1.2          0.2        1       0\n",
      "15            1.5          0.4        1       0\n",
      "16            1.3          0.4        1       0\n",
      "17            1.4          0.3        1       0\n",
      "18            1.7          0.3        1       0\n",
      "19            1.5          0.3        1       0\n",
      "20            1.7          0.2        1       0\n",
      "21            1.5          0.4        1       0\n",
      "22            1.0          0.2        1       0\n",
      "23            1.7          0.5        1       0\n",
      "24            1.9          0.2        1       0\n",
      "25            1.6          0.2        1       0\n",
      "26            1.6          0.4        1       0\n",
      "27            1.5          0.2        1       0\n",
      "28            1.4          0.2        1       0\n",
      "29            1.6          0.2        1       0\n",
      "30            1.6          0.2        1       0\n",
      "31            1.5          0.4        1       0\n",
      "32            1.5          0.1        1       0\n",
      "33            1.4          0.2        1       0\n",
      "34            1.5          0.2        1       0\n",
      "35            1.2          0.2        1       0\n",
      "36            1.3          0.2        1       0\n",
      "37            1.4          0.1        1       0\n",
      "38            1.3          0.2        1       0\n",
      "39            1.5          0.2        1       0\n",
      "40            1.3          0.3        1       0\n",
      "41            1.3          0.3        1       0\n",
      "42            1.3          0.2        1       0\n",
      "43            1.6          0.6        1       0\n",
      "44            1.9          0.4        1       0\n",
      "45            1.4          0.3        1       0\n",
      "46            1.6          0.2        1       0\n",
      "47            1.4          0.2        1       0\n",
      "48            1.5          0.2        1       0\n",
      "49            1.4          0.2        1       0\n",
      "50            4.7          1.4        2       1\n",
      "51            4.5          1.5        2       1\n",
      "52            4.9          1.5        2       1\n",
      "53            4.0          1.3        2       1\n",
      "54            4.6          1.5        2       1\n",
      "55            4.5          1.3        2       1\n",
      "56            4.7          1.6        2       1\n",
      "57            3.3          1.0        2       1\n",
      "58            4.6          1.3        2       1\n",
      "59            3.9          1.4        2       1\n",
      "60            3.5          1.0        2       1\n",
      "61            4.2          1.5        2       1\n",
      "62            4.0          1.0        2       1\n",
      "63            4.7          1.4        2       1\n",
      "64            3.6          1.3        2       1\n",
      "65            4.4          1.4        2       1\n",
      "66            4.5          1.5        2       1\n",
      "67            4.1          1.0        2       1\n",
      "68            4.5          1.5        2       1\n",
      "69            3.9          1.1        2       1\n",
      "70            4.8          1.8        2       1\n",
      "71            4.0          1.3        2       1\n",
      "72            4.9          1.5        2       1\n",
      "73            4.7          1.2        2       1\n",
      "74            4.3          1.3        2       1\n",
      "75            4.4          1.4        2       1\n",
      "76            4.8          1.4        2       1\n",
      "77            5.0          1.7        0       1\n",
      "78            4.5          1.5        2       1\n",
      "79            3.5          1.0        2       1\n",
      "80            3.8          1.1        2       1\n",
      "81            3.7          1.0        2       1\n",
      "82            3.9          1.2        2       1\n",
      "83            5.1          1.6        0       1\n",
      "84            4.5          1.5        2       1\n",
      "85            4.5          1.6        2       1\n",
      "86            4.7          1.5        2       1\n",
      "87            4.4          1.3        2       1\n",
      "88            4.1          1.3        2       1\n",
      "89            4.0          1.3        2       1\n",
      "90            4.4          1.2        2       1\n",
      "91            4.6          1.4        2       1\n",
      "92            4.0          1.2        2       1\n",
      "93            3.3          1.0        2       1\n",
      "94            4.2          1.3        2       1\n",
      "95            4.2          1.2        2       1\n",
      "96            4.2          1.3        2       1\n",
      "97            4.3          1.3        2       1\n",
      "98            3.0          1.1        2       1\n",
      "99            4.1          1.3        2       1\n",
      "100           6.0          2.5        0       2\n",
      "101           5.1          1.9        0       2\n",
      "102           5.9          2.1        0       2\n",
      "103           5.6          1.8        0       2\n",
      "104           5.8          2.2        0       2\n",
      "105           6.6          2.1        0       2\n",
      "106           4.5          1.7        2       2\n",
      "107           6.3          1.8        0       2\n",
      "108           5.8          1.8        0       2\n",
      "109           6.1          2.5        0       2\n",
      "110           5.1          2.0        0       2\n",
      "111           5.3          1.9        0       2\n",
      "112           5.5          2.1        0       2\n",
      "113           5.0          2.0        0       2\n",
      "114           5.1          2.4        0       2\n",
      "115           5.3          2.3        0       2\n",
      "116           5.5          1.8        0       2\n",
      "117           6.7          2.2        0       2\n",
      "118           6.9          2.3        0       2\n",
      "119           5.0          1.5        2       2\n",
      "120           5.7          2.3        0       2\n",
      "121           4.9          2.0        0       2\n",
      "122           6.7          2.0        0       2\n",
      "123           4.9          1.8        0       2\n",
      "124           5.7          2.1        0       2\n",
      "125           6.0          1.8        0       2\n",
      "126           4.8          1.8        2       2\n",
      "127           4.9          1.8        0       2\n",
      "128           5.6          2.1        0       2\n",
      "129           5.8          1.6        0       2\n",
      "130           6.1          1.9        0       2\n",
      "131           6.4          2.0        0       2\n",
      "132           5.6          2.2        0       2\n",
      "133           5.1          1.5        0       2\n",
      "134           5.6          1.4        0       2\n",
      "135           6.1          2.3        0       2\n",
      "136           5.6          2.4        0       2\n",
      "137           5.5          1.8        0       2\n",
      "138           4.8          1.8        2       2\n",
      "139           5.4          2.1        0       2\n",
      "140           5.6          2.4        0       2\n",
      "141           5.1          2.3        0       2\n",
      "142           5.1          1.9        0       2\n",
      "143           5.9          2.3        0       2\n",
      "144           5.7          2.5        0       2\n",
      "145           5.2          2.3        0       2\n",
      "146           5.0          1.9        0       2\n",
      "147           5.2          2.0        0       2\n",
      "148           5.4          2.3        0       2\n",
      "149           5.1          1.8        0       2\n"
     ]
    }
   ],
   "source": [
    "print(df.to_string())"
   ]
  },
  {
   "cell_type": "code",
   "execution_count": null,
   "id": "74265eb7-2b5b-42fa-ba22-9ebce8eb6e81",
   "metadata": {},
   "outputs": [],
   "source": []
  }
 ],
 "metadata": {
  "kernelspec": {
   "display_name": "Python 3 (ipykernel)",
   "language": "python",
   "name": "python3"
  },
  "language_info": {
   "codemirror_mode": {
    "name": "ipython",
    "version": 3
   },
   "file_extension": ".py",
   "mimetype": "text/x-python",
   "name": "python",
   "nbconvert_exporter": "python",
   "pygments_lexer": "ipython3",
   "version": "3.12.2"
  }
 },
 "nbformat": 4,
 "nbformat_minor": 5
}
