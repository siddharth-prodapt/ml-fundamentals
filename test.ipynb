{
 "cells": [
  {
   "cell_type": "markdown",
   "id": "e318a2a2-9201-4dd9-bad0-5f6946dbd1c8",
   "metadata": {},
   "source": [
    "# My Test Project"
   ]
  },
  {
   "cell_type": "code",
   "execution_count": 192,
   "id": "e79d2e85-1de6-4fbb-afa3-1f326758bad4",
   "metadata": {},
   "outputs": [],
   "source": [
    "import pandas as pd\n",
    "import numpy as ns\n",
    "import matplotlib.pyplot as plt\n",
    "from sklearn.model_selection import train_test_split\n",
    "from sklearn.linear_model import LinearRegression\n",
    "from sklearn.neighbors import KNeighborsClassifier"
   ]
  },
  {
   "cell_type": "markdown",
   "id": "4495dead-b88d-4514-9a04-9baa11fae14d",
   "metadata": {},
   "source": [
    "# Loading our data"
   ]
  },
  {
   "cell_type": "code",
   "execution_count": 193,
   "id": "10fb6a1b-7ac4-4480-b1f6-efabe556f276",
   "metadata": {},
   "outputs": [],
   "source": [
    "df = pd.read_csv('car_prices.csv')"
   ]
  },
  {
   "cell_type": "code",
   "execution_count": 194,
   "id": "2be41026-31b1-421b-b560-3301ff3434ad",
   "metadata": {},
   "outputs": [
    {
     "data": {
      "text/html": [
       "<div>\n",
       "<style scoped>\n",
       "    .dataframe tbody tr th:only-of-type {\n",
       "        vertical-align: middle;\n",
       "    }\n",
       "\n",
       "    .dataframe tbody tr th {\n",
       "        vertical-align: top;\n",
       "    }\n",
       "\n",
       "    .dataframe thead th {\n",
       "        text-align: right;\n",
       "    }\n",
       "</style>\n",
       "<table border=\"1\" class=\"dataframe\">\n",
       "  <thead>\n",
       "    <tr style=\"text-align: right;\">\n",
       "      <th></th>\n",
       "      <th>year</th>\n",
       "      <th>make</th>\n",
       "      <th>model</th>\n",
       "      <th>trim</th>\n",
       "      <th>body</th>\n",
       "      <th>transmission</th>\n",
       "      <th>vin</th>\n",
       "      <th>state</th>\n",
       "      <th>condition</th>\n",
       "      <th>odometer</th>\n",
       "      <th>color</th>\n",
       "      <th>interior</th>\n",
       "      <th>seller</th>\n",
       "      <th>mmr</th>\n",
       "      <th>sellingprice</th>\n",
       "      <th>saledate</th>\n",
       "    </tr>\n",
       "  </thead>\n",
       "  <tbody>\n",
       "    <tr>\n",
       "      <th>0</th>\n",
       "      <td>2015</td>\n",
       "      <td>Kia</td>\n",
       "      <td>Sorento</td>\n",
       "      <td>LX</td>\n",
       "      <td>SUV</td>\n",
       "      <td>automatic</td>\n",
       "      <td>5xyktca69fg566472</td>\n",
       "      <td>ca</td>\n",
       "      <td>5.0</td>\n",
       "      <td>16639.0</td>\n",
       "      <td>white</td>\n",
       "      <td>black</td>\n",
       "      <td>kia motors america  inc</td>\n",
       "      <td>20500.0</td>\n",
       "      <td>21500.0</td>\n",
       "      <td>Tue Dec 16 2014 12:30:00 GMT-0800 (PST)</td>\n",
       "    </tr>\n",
       "    <tr>\n",
       "      <th>1</th>\n",
       "      <td>2015</td>\n",
       "      <td>Kia</td>\n",
       "      <td>Sorento</td>\n",
       "      <td>LX</td>\n",
       "      <td>SUV</td>\n",
       "      <td>automatic</td>\n",
       "      <td>5xyktca69fg561319</td>\n",
       "      <td>ca</td>\n",
       "      <td>5.0</td>\n",
       "      <td>9393.0</td>\n",
       "      <td>white</td>\n",
       "      <td>beige</td>\n",
       "      <td>kia motors america  inc</td>\n",
       "      <td>20800.0</td>\n",
       "      <td>21500.0</td>\n",
       "      <td>Tue Dec 16 2014 12:30:00 GMT-0800 (PST)</td>\n",
       "    </tr>\n",
       "    <tr>\n",
       "      <th>2</th>\n",
       "      <td>2014</td>\n",
       "      <td>BMW</td>\n",
       "      <td>3 Series</td>\n",
       "      <td>328i SULEV</td>\n",
       "      <td>Sedan</td>\n",
       "      <td>automatic</td>\n",
       "      <td>wba3c1c51ek116351</td>\n",
       "      <td>ca</td>\n",
       "      <td>45.0</td>\n",
       "      <td>1331.0</td>\n",
       "      <td>gray</td>\n",
       "      <td>black</td>\n",
       "      <td>financial services remarketing (lease)</td>\n",
       "      <td>31900.0</td>\n",
       "      <td>30000.0</td>\n",
       "      <td>Thu Jan 15 2015 04:30:00 GMT-0800 (PST)</td>\n",
       "    </tr>\n",
       "    <tr>\n",
       "      <th>3</th>\n",
       "      <td>2015</td>\n",
       "      <td>Volvo</td>\n",
       "      <td>S60</td>\n",
       "      <td>T5</td>\n",
       "      <td>Sedan</td>\n",
       "      <td>automatic</td>\n",
       "      <td>yv1612tb4f1310987</td>\n",
       "      <td>ca</td>\n",
       "      <td>41.0</td>\n",
       "      <td>14282.0</td>\n",
       "      <td>white</td>\n",
       "      <td>black</td>\n",
       "      <td>volvo na rep/world omni</td>\n",
       "      <td>27500.0</td>\n",
       "      <td>27750.0</td>\n",
       "      <td>Thu Jan 29 2015 04:30:00 GMT-0800 (PST)</td>\n",
       "    </tr>\n",
       "    <tr>\n",
       "      <th>4</th>\n",
       "      <td>2014</td>\n",
       "      <td>BMW</td>\n",
       "      <td>6 Series Gran Coupe</td>\n",
       "      <td>650i</td>\n",
       "      <td>Sedan</td>\n",
       "      <td>automatic</td>\n",
       "      <td>wba6b2c57ed129731</td>\n",
       "      <td>ca</td>\n",
       "      <td>43.0</td>\n",
       "      <td>2641.0</td>\n",
       "      <td>gray</td>\n",
       "      <td>black</td>\n",
       "      <td>financial services remarketing (lease)</td>\n",
       "      <td>66000.0</td>\n",
       "      <td>67000.0</td>\n",
       "      <td>Thu Dec 18 2014 12:30:00 GMT-0800 (PST)</td>\n",
       "    </tr>\n",
       "  </tbody>\n",
       "</table>\n",
       "</div>"
      ],
      "text/plain": [
       "   year   make                model        trim   body transmission  \\\n",
       "0  2015    Kia              Sorento          LX    SUV    automatic   \n",
       "1  2015    Kia              Sorento          LX    SUV    automatic   \n",
       "2  2014    BMW             3 Series  328i SULEV  Sedan    automatic   \n",
       "3  2015  Volvo                  S60          T5  Sedan    automatic   \n",
       "4  2014    BMW  6 Series Gran Coupe        650i  Sedan    automatic   \n",
       "\n",
       "                 vin state  condition  odometer  color interior  \\\n",
       "0  5xyktca69fg566472    ca        5.0   16639.0  white    black   \n",
       "1  5xyktca69fg561319    ca        5.0    9393.0  white    beige   \n",
       "2  wba3c1c51ek116351    ca       45.0    1331.0   gray    black   \n",
       "3  yv1612tb4f1310987    ca       41.0   14282.0  white    black   \n",
       "4  wba6b2c57ed129731    ca       43.0    2641.0   gray    black   \n",
       "\n",
       "                                   seller      mmr  sellingprice  \\\n",
       "0                 kia motors america  inc  20500.0       21500.0   \n",
       "1                 kia motors america  inc  20800.0       21500.0   \n",
       "2  financial services remarketing (lease)  31900.0       30000.0   \n",
       "3                 volvo na rep/world omni  27500.0       27750.0   \n",
       "4  financial services remarketing (lease)  66000.0       67000.0   \n",
       "\n",
       "                                  saledate  \n",
       "0  Tue Dec 16 2014 12:30:00 GMT-0800 (PST)  \n",
       "1  Tue Dec 16 2014 12:30:00 GMT-0800 (PST)  \n",
       "2  Thu Jan 15 2015 04:30:00 GMT-0800 (PST)  \n",
       "3  Thu Jan 29 2015 04:30:00 GMT-0800 (PST)  \n",
       "4  Thu Dec 18 2014 12:30:00 GMT-0800 (PST)  "
      ]
     },
     "execution_count": 194,
     "metadata": {},
     "output_type": "execute_result"
    }
   ],
   "source": [
    "df.head()"
   ]
  },
  {
   "cell_type": "code",
   "execution_count": 195,
   "id": "de2b7353-f24a-4f5b-85eb-059755c0a30a",
   "metadata": {},
   "outputs": [
    {
     "data": {
      "text/plain": [
       "(558837, 16)"
      ]
     },
     "execution_count": 195,
     "metadata": {},
     "output_type": "execute_result"
    }
   ],
   "source": [
    "df.shape"
   ]
  },
  {
   "cell_type": "code",
   "execution_count": 196,
   "id": "d4a648a5-eb89-4090-8739-a4fe0f09c4b3",
   "metadata": {},
   "outputs": [
    {
     "name": "stdout",
     "output_type": "stream",
     "text": [
      "<class 'pandas.core.frame.DataFrame'>\n",
      "RangeIndex: 558837 entries, 0 to 558836\n",
      "Data columns (total 16 columns):\n",
      " #   Column        Non-Null Count   Dtype  \n",
      "---  ------        --------------   -----  \n",
      " 0   year          558837 non-null  int64  \n",
      " 1   make          548536 non-null  object \n",
      " 2   model         548438 non-null  object \n",
      " 3   trim          548186 non-null  object \n",
      " 4   body          545642 non-null  object \n",
      " 5   transmission  493485 non-null  object \n",
      " 6   vin           558833 non-null  object \n",
      " 7   state         558837 non-null  object \n",
      " 8   condition     547017 non-null  float64\n",
      " 9   odometer      558743 non-null  float64\n",
      " 10  color         558088 non-null  object \n",
      " 11  interior      558088 non-null  object \n",
      " 12  seller        558837 non-null  object \n",
      " 13  mmr           558799 non-null  float64\n",
      " 14  sellingprice  558825 non-null  float64\n",
      " 15  saledate      558825 non-null  object \n",
      "dtypes: float64(4), int64(1), object(11)\n",
      "memory usage: 68.2+ MB\n"
     ]
    }
   ],
   "source": [
    "df.info()"
   ]
  },
  {
   "cell_type": "code",
   "execution_count": 197,
   "id": "4dd16104-a8d1-4060-a76e-6223d32765fc",
   "metadata": {},
   "outputs": [
    {
     "data": {
      "text/html": [
       "<div>\n",
       "<style scoped>\n",
       "    .dataframe tbody tr th:only-of-type {\n",
       "        vertical-align: middle;\n",
       "    }\n",
       "\n",
       "    .dataframe tbody tr th {\n",
       "        vertical-align: top;\n",
       "    }\n",
       "\n",
       "    .dataframe thead th {\n",
       "        text-align: right;\n",
       "    }\n",
       "</style>\n",
       "<table border=\"1\" class=\"dataframe\">\n",
       "  <thead>\n",
       "    <tr style=\"text-align: right;\">\n",
       "      <th></th>\n",
       "      <th>year</th>\n",
       "      <th>condition</th>\n",
       "      <th>odometer</th>\n",
       "      <th>mmr</th>\n",
       "      <th>sellingprice</th>\n",
       "    </tr>\n",
       "  </thead>\n",
       "  <tbody>\n",
       "    <tr>\n",
       "      <th>count</th>\n",
       "      <td>558837.000000</td>\n",
       "      <td>547017.000000</td>\n",
       "      <td>558743.000000</td>\n",
       "      <td>558799.000000</td>\n",
       "      <td>558825.000000</td>\n",
       "    </tr>\n",
       "    <tr>\n",
       "      <th>mean</th>\n",
       "      <td>2010.038927</td>\n",
       "      <td>30.672365</td>\n",
       "      <td>68320.017767</td>\n",
       "      <td>13769.377495</td>\n",
       "      <td>13611.358810</td>\n",
       "    </tr>\n",
       "    <tr>\n",
       "      <th>std</th>\n",
       "      <td>3.966864</td>\n",
       "      <td>13.402832</td>\n",
       "      <td>53398.542821</td>\n",
       "      <td>9679.967174</td>\n",
       "      <td>9749.501628</td>\n",
       "    </tr>\n",
       "    <tr>\n",
       "      <th>min</th>\n",
       "      <td>1982.000000</td>\n",
       "      <td>1.000000</td>\n",
       "      <td>1.000000</td>\n",
       "      <td>25.000000</td>\n",
       "      <td>1.000000</td>\n",
       "    </tr>\n",
       "    <tr>\n",
       "      <th>25%</th>\n",
       "      <td>2007.000000</td>\n",
       "      <td>23.000000</td>\n",
       "      <td>28371.000000</td>\n",
       "      <td>7100.000000</td>\n",
       "      <td>6900.000000</td>\n",
       "    </tr>\n",
       "    <tr>\n",
       "      <th>50%</th>\n",
       "      <td>2012.000000</td>\n",
       "      <td>35.000000</td>\n",
       "      <td>52254.000000</td>\n",
       "      <td>12250.000000</td>\n",
       "      <td>12100.000000</td>\n",
       "    </tr>\n",
       "    <tr>\n",
       "      <th>75%</th>\n",
       "      <td>2013.000000</td>\n",
       "      <td>42.000000</td>\n",
       "      <td>99109.000000</td>\n",
       "      <td>18300.000000</td>\n",
       "      <td>18200.000000</td>\n",
       "    </tr>\n",
       "    <tr>\n",
       "      <th>max</th>\n",
       "      <td>2015.000000</td>\n",
       "      <td>49.000000</td>\n",
       "      <td>999999.000000</td>\n",
       "      <td>182000.000000</td>\n",
       "      <td>230000.000000</td>\n",
       "    </tr>\n",
       "  </tbody>\n",
       "</table>\n",
       "</div>"
      ],
      "text/plain": [
       "                year      condition       odometer            mmr  \\\n",
       "count  558837.000000  547017.000000  558743.000000  558799.000000   \n",
       "mean     2010.038927      30.672365   68320.017767   13769.377495   \n",
       "std         3.966864      13.402832   53398.542821    9679.967174   \n",
       "min      1982.000000       1.000000       1.000000      25.000000   \n",
       "25%      2007.000000      23.000000   28371.000000    7100.000000   \n",
       "50%      2012.000000      35.000000   52254.000000   12250.000000   \n",
       "75%      2013.000000      42.000000   99109.000000   18300.000000   \n",
       "max      2015.000000      49.000000  999999.000000  182000.000000   \n",
       "\n",
       "        sellingprice  \n",
       "count  558825.000000  \n",
       "mean    13611.358810  \n",
       "std      9749.501628  \n",
       "min         1.000000  \n",
       "25%      6900.000000  \n",
       "50%     12100.000000  \n",
       "75%     18200.000000  \n",
       "max    230000.000000  "
      ]
     },
     "execution_count": 197,
     "metadata": {},
     "output_type": "execute_result"
    }
   ],
   "source": [
    "df.describe()"
   ]
  },
  {
   "cell_type": "markdown",
   "id": "f21168e1-e5a2-4e63-b3f4-bb5395216e03",
   "metadata": {},
   "source": [
    "# Numerical Analysis and Visualisation"
   ]
  },
  {
   "cell_type": "code",
   "execution_count": 198,
   "id": "aca3645e-ed8d-4579-960b-fa04869845e4",
   "metadata": {},
   "outputs": [
    {
     "data": {
      "text/plain": [
       "count    547017.000000\n",
       "mean         30.672365\n",
       "std          13.402832\n",
       "min           1.000000\n",
       "25%          23.000000\n",
       "50%          35.000000\n",
       "75%          42.000000\n",
       "max          49.000000\n",
       "Name: condition, dtype: float64"
      ]
     },
     "execution_count": 198,
     "metadata": {},
     "output_type": "execute_result"
    }
   ],
   "source": [
    "df['condition'].describe()"
   ]
  },
  {
   "cell_type": "code",
   "execution_count": 199,
   "id": "5104041c-f52f-4cb5-9d6e-7afd8a1f2df3",
   "metadata": {},
   "outputs": [
    {
     "data": {
      "text/plain": [
       "35.0"
      ]
     },
     "execution_count": 199,
     "metadata": {},
     "output_type": "execute_result"
    }
   ],
   "source": [
    "df['condition'].median()"
   ]
  },
  {
   "cell_type": "code",
   "execution_count": 200,
   "id": "2e7148af-61fa-4a59-8141-bedd2e114f86",
   "metadata": {},
   "outputs": [
    {
     "data": {
      "text/plain": [
       "<Axes: >"
      ]
     },
     "execution_count": 200,
     "metadata": {},
     "output_type": "execute_result"
    },
    {
     "data": {
      "image/png": "[encoded data removed]",
      "text/plain": [
       "<Figure size 1400x600 with 1 Axes>"
      ]
     },
     "metadata": {},
     "output_type": "display_data"
    }
   ],
   "source": [
    "df.plot(kind = 'box', vert = False, figsize = (14,6))"
   ]
  },
  {
   "cell_type": "code",
   "execution_count": 201,
   "id": "0176a139-bbac-455a-954f-d84837c487e9",
   "metadata": {},
   "outputs": [
    {
     "data": {
      "text/plain": [
       "2012.0"
      ]
     },
     "execution_count": 201,
     "metadata": {},
     "output_type": "execute_result"
    }
   ],
   "source": [
    "df['year'].median()"
   ]
  },
  {
   "cell_type": "code",
   "execution_count": 202,
   "id": "ea7e7150-2554-412e-bdb7-f8193dc1ee57",
   "metadata": {},
   "outputs": [],
   "source": [
    "list_of_target_col = ['odometer', 'sellingprice']"
   ]
  },
  {
   "cell_type": "code",
   "execution_count": 203,
   "id": "010ea2d8-30c2-4ba2-b8a3-07404010e246",
   "metadata": {},
   "outputs": [
    {
     "data": {
      "text/html": [
       "<div>\n",
       "<style scoped>\n",
       "    .dataframe tbody tr th:only-of-type {\n",
       "        vertical-align: middle;\n",
       "    }\n",
       "\n",
       "    .dataframe tbody tr th {\n",
       "        vertical-align: top;\n",
       "    }\n",
       "\n",
       "    .dataframe thead th {\n",
       "        text-align: right;\n",
       "    }\n",
       "</style>\n",
       "<table border=\"1\" class=\"dataframe\">\n",
       "  <thead>\n",
       "    <tr style=\"text-align: right;\">\n",
       "      <th></th>\n",
       "      <th>odometer</th>\n",
       "      <th>sellingprice</th>\n",
       "    </tr>\n",
       "  </thead>\n",
       "  <tbody>\n",
       "    <tr>\n",
       "      <th>0</th>\n",
       "      <td>16639.0</td>\n",
       "      <td>21500.0</td>\n",
       "    </tr>\n",
       "    <tr>\n",
       "      <th>1</th>\n",
       "      <td>9393.0</td>\n",
       "      <td>21500.0</td>\n",
       "    </tr>\n",
       "    <tr>\n",
       "      <th>2</th>\n",
       "      <td>1331.0</td>\n",
       "      <td>30000.0</td>\n",
       "    </tr>\n",
       "    <tr>\n",
       "      <th>3</th>\n",
       "      <td>14282.0</td>\n",
       "      <td>27750.0</td>\n",
       "    </tr>\n",
       "    <tr>\n",
       "      <th>4</th>\n",
       "      <td>2641.0</td>\n",
       "      <td>67000.0</td>\n",
       "    </tr>\n",
       "    <tr>\n",
       "      <th>...</th>\n",
       "      <td>...</td>\n",
       "      <td>...</td>\n",
       "    </tr>\n",
       "    <tr>\n",
       "      <th>558832</th>\n",
       "      <td>18255.0</td>\n",
       "      <td>33000.0</td>\n",
       "    </tr>\n",
       "    <tr>\n",
       "      <th>558833</th>\n",
       "      <td>54393.0</td>\n",
       "      <td>30800.0</td>\n",
       "    </tr>\n",
       "    <tr>\n",
       "      <th>558834</th>\n",
       "      <td>50561.0</td>\n",
       "      <td>34000.0</td>\n",
       "    </tr>\n",
       "    <tr>\n",
       "      <th>558835</th>\n",
       "      <td>16658.0</td>\n",
       "      <td>11100.0</td>\n",
       "    </tr>\n",
       "    <tr>\n",
       "      <th>558836</th>\n",
       "      <td>15008.0</td>\n",
       "      <td>26700.0</td>\n",
       "    </tr>\n",
       "  </tbody>\n",
       "</table>\n",
       "<p>558837 rows × 2 columns</p>\n",
       "</div>"
      ],
      "text/plain": [
       "        odometer  sellingprice\n",
       "0        16639.0       21500.0\n",
       "1         9393.0       21500.0\n",
       "2         1331.0       30000.0\n",
       "3        14282.0       27750.0\n",
       "4         2641.0       67000.0\n",
       "...          ...           ...\n",
       "558832   18255.0       33000.0\n",
       "558833   54393.0       30800.0\n",
       "558834   50561.0       34000.0\n",
       "558835   16658.0       11100.0\n",
       "558836   15008.0       26700.0\n",
       "\n",
       "[558837 rows x 2 columns]"
      ]
     },
     "execution_count": 203,
     "metadata": {},
     "output_type": "execute_result"
    }
   ],
   "source": [
    "df[list_of_target_col]"
   ]
  },
  {
   "cell_type": "code",
   "execution_count": 204,
   "id": "ab610166-084b-4b4d-87f8-e9cc33de10d2",
   "metadata": {},
   "outputs": [
    {
     "data": {
      "image/png": "[encoded data removed]",
      "text/plain": [
       "<Figure size 640x480 with 1 Axes>"
      ]
     },
     "metadata": {},
     "output_type": "display_data"
    },
    {
     "name": "stdout",
     "output_type": "stream",
     "text": [
      "sellingprice    0\n",
      "odometer        0\n",
      "dtype: int64\n"
     ]
    }
   ],
   "source": [
    "df = df[['sellingprice', 'odometer']]\n",
    "df = df.dropna()\n",
    "null_values = df.isnull().sum()\n",
    "plt.scatter(df['sellingprice'], df['odometer'])\n",
    "plt.xlabel('X Data')\n",
    "plt.ylabel('Odometer Data')\n",
    "plt.ticklabel_format(style='plain', axis='y')\n",
    "plt.title('Scatter Plot')\n",
    "plt.grid(True)\n",
    "plt.show()\n",
    "print(null_values)\n",
    "X_train, X_test, y_train, y_test = train_test_split(df['sellingprice'], df['odometer'], test_size=0.2)"
   ]
  },
  {
   "cell_type": "code",
   "execution_count": 205,
   "id": "3d15f8e4-b1b7-4c3b-9bae-e9d41eaa8822",
   "metadata": {},
   "outputs": [
    {
     "data": {
      "text/plain": [
       "518705     6000.0\n",
       "465246     1250.0\n",
       "36781     16000.0\n",
       "453490    14100.0\n",
       "262148    16800.0\n",
       "           ...   \n",
       "518023     9800.0\n",
       "453586    11300.0\n",
       "531700    12600.0\n",
       "345546    14100.0\n",
       "204458     9500.0\n",
       "Name: sellingprice, Length: 446984, dtype: float64"
      ]
     },
     "execution_count": 205,
     "metadata": {},
     "output_type": "execute_result"
    }
   ],
   "source": [
    "X_train"
   ]
  },
  {
   "cell_type": "code",
   "execution_count": 206,
   "id": "ee7c6782-bba5-4d03-8cc8-e21c33229101",
   "metadata": {},
   "outputs": [
    {
     "data": {
      "text/plain": [
       "518705     77441.0\n",
       "465246     89787.0\n",
       "36781      32958.0\n",
       "453490     34219.0\n",
       "262148     13684.0\n",
       "            ...   \n",
       "518023     89176.0\n",
       "453586     32807.0\n",
       "531700     32379.0\n",
       "345546     17253.0\n",
       "204458    125946.0\n",
       "Name: odometer, Length: 446984, dtype: float64"
      ]
     },
     "execution_count": 206,
     "metadata": {},
     "output_type": "execute_result"
    }
   ],
   "source": [
    "y_train"
   ]
  },
  {
   "cell_type": "code",
   "execution_count": 207,
   "id": "38c0ad88-31b4-4f41-b19c-69b33b118559",
   "metadata": {
    "scrolled": true
   },
   "outputs": [
    {
     "data": {
      "text/plain": [
       "178784     8100.0\n",
       "217359    16400.0\n",
       "168991     4100.0\n",
       "494682    16250.0\n",
       "164285    30500.0\n",
       "           ...   \n",
       "188849    73000.0\n",
       "397505     8000.0\n",
       "400892     2900.0\n",
       "274440     8500.0\n",
       "128430     4000.0\n",
       "Name: sellingprice, Length: 111747, dtype: float64"
      ]
     },
     "execution_count": 207,
     "metadata": {},
     "output_type": "execute_result"
    }
   ],
   "source": [
    "X_test"
   ]
  },
  {
   "cell_type": "code",
   "execution_count": 208,
   "id": "049dcd2d-3dde-462d-9253-93077150e451",
   "metadata": {
    "scrolled": true
   },
   "outputs": [],
   "source": [
    "model = KNeighborsClassifier()"
   ]
  },
  {
   "cell_type": "code",
   "execution_count": 209,
   "id": "bf4382d3-b855-42bb-a32b-7b6cf6316704",
   "metadata": {},
   "outputs": [
    {
     "name": "stderr",
     "output_type": "stream",
     "text": [
      "C:\\Users\\siddharth.sp\\Desktop\\Learn2Live\\data science\\data analytics\\.venv\\Lib\\site-packages\\sklearn\\neighbors\\_classification.py:238: DataConversionWarning: A column-vector y was passed when a 1d array was expected. Please change the shape of y to (n_samples,), for example using ravel().\n",
      "  return self._fit(X, y)\n"
     ]
    },
    {
     "data": {
      "text/html": [
       "<style>#sk-container-id-6 {\n",
       "  /* Definition of color scheme common for light and dark mode */\n",
       "  --sklearn-color-text: black;\n",
       "  --sklearn-color-line: gray;\n",
       "  /* Definition of color scheme for unfitted estimators */\n",
       "  --sklearn-color-unfitted-level-0: #fff5e6;\n",
       "  --sklearn-color-unfitted-level-1: #f6e4d2;\n",
       "  --sklearn-color-unfitted-level-2: #ffe0b3;\n",
       "  --sklearn-color-unfitted-level-3: chocolate;\n",
       "  /* Definition of color scheme for fitted estimators */\n",
       "  --sklearn-color-fitted-level-0: #f0f8ff;\n",
       "  --sklearn-color-fitted-level-1: #d4ebff;\n",
       "  --sklearn-color-fitted-level-2: #b3dbfd;\n",
       "  --sklearn-color-fitted-level-3: cornflowerblue;\n",
       "\n",
       "  /* Specific color for light theme */\n",
       "  --sklearn-color-text-on-default-background: var(--sg-text-color, var(--theme-code-foreground, var(--jp-content-font-color1, black)));\n",
       "  --sklearn-color-background: var(--sg-background-color, var(--theme-background, var(--jp-layout-color0, white)));\n",
       "  --sklearn-color-border-box: var(--sg-text-color, var(--theme-code-foreground, var(--jp-content-font-color1, black)));\n",
       "  --sklearn-color-icon: #696969;\n",
       "\n",
       "  @media (prefers-color-scheme: dark) {\n",
       "    /* Redefinition of color scheme for dark theme */\n",
       "    --sklearn-color-text-on-default-background: var(--sg-text-color, var(--theme-code-foreground, var(--jp-content-font-color1, white)));\n",
       "    --sklearn-color-background: var(--sg-background-color, var(--theme-background, var(--jp-layout-color0, #111)));\n",
       "    --sklearn-color-border-box: var(--sg-text-color, var(--theme-code-foreground, var(--jp-content-font-color1, white)));\n",
       "    --sklearn-color-icon: #878787;\n",
       "  }\n",
       "}\n",
       "\n",
       "#sk-container-id-6 {\n",
       "  color: var(--sklearn-color-text);\n",
       "}\n",
       "\n",
       "#sk-container-id-6 pre {\n",
       "  padding: 0;\n",
       "}\n",
       "\n",
       "#sk-container-id-6 input.sk-hidden--visually {\n",
       "  border: 0;\n",
       "  clip: rect(1px 1px 1px 1px);\n",
       "  clip: rect(1px, 1px, 1px, 1px);\n",
       "  height: 1px;\n",
       "  margin: -1px;\n",
       "  overflow: hidden;\n",
       "  padding: 0;\n",
       "  position: absolute;\n",
       "  width: 1px;\n",
       "}\n",
       "\n",
       "#sk-container-id-6 div.sk-dashed-wrapped {\n",
       "  border: 1px dashed var(--sklearn-color-line);\n",
       "  margin: 0 0.4em 0.5em 0.4em;\n",
       "  box-sizing: border-box;\n",
       "  padding-bottom: 0.4em;\n",
       "  background-color: var(--sklearn-color-background);\n",
       "}\n",
       "\n",
       "#sk-container-id-6 div.sk-container {\n",
       "  /* jupyter's `normalize.less` sets `[hidden] { display: none; }`\n",
       "     but bootstrap.min.css set `[hidden] { display: none !important; }`\n",
       "     so we also need the `!important` here to be able to override the\n",
       "     default hidden behavior on the sphinx rendered scikit-learn.org.\n",
       "     See: https://github.com/scikit-learn/scikit-learn/issues/21755 */\n",
       "  display: inline-block !important;\n",
       "  position: relative;\n",
       "}\n",
       "\n",
       "#sk-container-id-6 div.sk-text-repr-fallback {\n",
       "  display: none;\n",
       "}\n",
       "\n",
       "div.sk-parallel-item,\n",
       "div.sk-serial,\n",
       "div.sk-item {\n",
       "  /* draw centered vertical line to link estimators */\n",
       "  background-image: linear-gradient(var(--sklearn-color-text-on-default-background), var(--sklearn-color-text-on-default-background));\n",
       "  background-size: 2px 100%;\n",
       "  background-repeat: no-repeat;\n",
       "  background-position: center center;\n",
       "}\n",
       "\n",
       "/* Parallel-specific style estimator block */\n",
       "\n",
       "#sk-container-id-6 div.sk-parallel-item::after {\n",
       "  content: \"\";\n",
       "  width: 100%;\n",
       "  border-bottom: 2px solid var(--sklearn-color-text-on-default-background);\n",
       "  flex-grow: 1;\n",
       "}\n",
       "\n",
       "#sk-container-id-6 div.sk-parallel {\n",
       "  display: flex;\n",
       "  align-items: stretch;\n",
       "  justify-content: center;\n",
       "  background-color: var(--sklearn-color-background);\n",
       "  position: relative;\n",
       "}\n",
       "\n",
       "#sk-container-id-6 div.sk-parallel-item {\n",
       "  display: flex;\n",
       "  flex-direction: column;\n",
       "}\n",
       "\n",
       "#sk-container-id-6 div.sk-parallel-item:first-child::after {\n",
       "  align-self: flex-end;\n",
       "  width: 50%;\n",
       "}\n",
       "\n",
       "#sk-container-id-6 div.sk-parallel-item:last-child::after {\n",
       "  align-self: flex-start;\n",
       "  width: 50%;\n",
       "}\n",
       "\n",
       "#sk-container-id-6 div.sk-parallel-item:only-child::after {\n",
       "  width: 0;\n",
       "}\n",
       "\n",
       "/* Serial-specific style estimator block */\n",
       "\n",
       "#sk-container-id-6 div.sk-serial {\n",
       "  display: flex;\n",
       "  flex-direction: column;\n",
       "  align-items: center;\n",
       "  background-color: var(--sklearn-color-background);\n",
       "  padding-right: 1em;\n",
       "  padding-left: 1em;\n",
       "}\n",
       "\n",
       "\n",
       "/* Toggleable style: style used for estimator/Pipeline/ColumnTransformer box that is\n",
       "clickable and can be expanded/collapsed.\n",
       "- Pipeline and ColumnTransformer use this feature and define the default style\n",
       "- Estimators will overwrite some part of the style using the `sk-estimator` class\n",
       "*/\n",
       "\n",
       "/* Pipeline and ColumnTransformer style (default) */\n",
       "\n",
       "#sk-container-id-6 div.sk-toggleable {\n",
       "  /* Default theme specific background. It is overwritten whether we have a\n",
       "  specific estimator or a Pipeline/ColumnTransformer */\n",
       "  background-color: var(--sklearn-color-background);\n",
       "}\n",
       "\n",
       "/* Toggleable label */\n",
       "#sk-container-id-6 label.sk-toggleable__label {\n",
       "  cursor: pointer;\n",
       "  display: block;\n",
       "  width: 100%;\n",
       "  margin-bottom: 0;\n",
       "  padding: 0.5em;\n",
       "  box-sizing: border-box;\n",
       "  text-align: center;\n",
       "}\n",
       "\n",
       "#sk-container-id-6 label.sk-toggleable__label-arrow:before {\n",
       "  /* Arrow on the left of the label */\n",
       "  content: \"▸\";\n",
       "  float: left;\n",
       "  margin-right: 0.25em;\n",
       "  color: var(--sklearn-color-icon);\n",
       "}\n",
       "\n",
       "#sk-container-id-6 label.sk-toggleable__label-arrow:hover:before {\n",
       "  color: var(--sklearn-color-text);\n",
       "}\n",
       "\n",
       "/* Toggleable content - dropdown */\n",
       "\n",
       "#sk-container-id-6 div.sk-toggleable__content {\n",
       "  max-height: 0;\n",
       "  max-width: 0;\n",
       "  overflow: hidden;\n",
       "  text-align: left;\n",
       "  /* unfitted */\n",
       "  background-color: var(--sklearn-color-unfitted-level-0);\n",
       "}\n",
       "\n",
       "#sk-container-id-6 div.sk-toggleable__content.fitted {\n",
       "  /* fitted */\n",
       "  background-color: var(--sklearn-color-fitted-level-0);\n",
       "}\n",
       "\n",
       "#sk-container-id-6 div.sk-toggleable__content pre {\n",
       "  margin: 0.2em;\n",
       "  border-radius: 0.25em;\n",
       "  color: var(--sklearn-color-text);\n",
       "  /* unfitted */\n",
       "  background-color: var(--sklearn-color-unfitted-level-0);\n",
       "}\n",
       "\n",
       "#sk-container-id-6 div.sk-toggleable__content.fitted pre {\n",
       "  /* unfitted */\n",
       "  background-color: var(--sklearn-color-fitted-level-0);\n",
       "}\n",
       "\n",
       "#sk-container-id-6 input.sk-toggleable__control:checked~div.sk-toggleable__content {\n",
       "  /* Expand drop-down */\n",
       "  max-height: 200px;\n",
       "  max-width: 100%;\n",
       "  overflow: auto;\n",
       "}\n",
       "\n",
       "#sk-container-id-6 input.sk-toggleable__control:checked~label.sk-toggleable__label-arrow:before {\n",
       "  content: \"▾\";\n",
       "}\n",
       "\n",
       "/* Pipeline/ColumnTransformer-specific style */\n",
       "\n",
       "#sk-container-id-6 div.sk-label input.sk-toggleable__control:checked~label.sk-toggleable__label {\n",
       "  color: var(--sklearn-color-text);\n",
       "  background-color: var(--sklearn-color-unfitted-level-2);\n",
       "}\n",
       "\n",
       "#sk-container-id-6 div.sk-label.fitted input.sk-toggleable__control:checked~label.sk-toggleable__label {\n",
       "  background-color: var(--sklearn-color-fitted-level-2);\n",
       "}\n",
       "\n",
       "/* Estimator-specific style */\n",
       "\n",
       "/* Colorize estimator box */\n",
       "#sk-container-id-6 div.sk-estimator input.sk-toggleable__control:checked~label.sk-toggleable__label {\n",
       "  /* unfitted */\n",
       "  background-color: var(--sklearn-color-unfitted-level-2);\n",
       "}\n",
       "\n",
       "#sk-container-id-6 div.sk-estimator.fitted input.sk-toggleable__control:checked~label.sk-toggleable__label {\n",
       "  /* fitted */\n",
       "  background-color: var(--sklearn-color-fitted-level-2);\n",
       "}\n",
       "\n",
       "#sk-container-id-6 div.sk-label label.sk-toggleable__label,\n",
       "#sk-container-id-6 div.sk-label label {\n",
       "  /* The background is the default theme color */\n",
       "  color: var(--sklearn-color-text-on-default-background);\n",
       "}\n",
       "\n",
       "/* On hover, darken the color of the background */\n",
       "#sk-container-id-6 div.sk-label:hover label.sk-toggleable__label {\n",
       "  color: var(--sklearn-color-text);\n",
       "  background-color: var(--sklearn-color-unfitted-level-2);\n",
       "}\n",
       "\n",
       "/* Label box, darken color on hover, fitted */\n",
       "#sk-container-id-6 div.sk-label.fitted:hover label.sk-toggleable__label.fitted {\n",
       "  color: var(--sklearn-color-text);\n",
       "  background-color: var(--sklearn-color-fitted-level-2);\n",
       "}\n",
       "\n",
       "/* Estimator label */\n",
       "\n",
       "#sk-container-id-6 div.sk-label label {\n",
       "  font-family: monospace;\n",
       "  font-weight: bold;\n",
       "  display: inline-block;\n",
       "  line-height: 1.2em;\n",
       "}\n",
       "\n",
       "#sk-container-id-6 div.sk-label-container {\n",
       "  text-align: center;\n",
       "}\n",
       "\n",
       "/* Estimator-specific */\n",
       "#sk-container-id-6 div.sk-estimator {\n",
       "  font-family: monospace;\n",
       "  border: 1px dotted var(--sklearn-color-border-box);\n",
       "  border-radius: 0.25em;\n",
       "  box-sizing: border-box;\n",
       "  margin-bottom: 0.5em;\n",
       "  /* unfitted */\n",
       "  background-color: var(--sklearn-color-unfitted-level-0);\n",
       "}\n",
       "\n",
       "#sk-container-id-6 div.sk-estimator.fitted {\n",
       "  /* fitted */\n",
       "  background-color: var(--sklearn-color-fitted-level-0);\n",
       "}\n",
       "\n",
       "/* on hover */\n",
       "#sk-container-id-6 div.sk-estimator:hover {\n",
       "  /* unfitted */\n",
       "  background-color: var(--sklearn-color-unfitted-level-2);\n",
       "}\n",
       "\n",
       "#sk-container-id-6 div.sk-estimator.fitted:hover {\n",
       "  /* fitted */\n",
       "  background-color: var(--sklearn-color-fitted-level-2);\n",
       "}\n",
       "\n",
       "/* Specification for estimator info (e.g. \"i\" and \"?\") */\n",
       "\n",
       "/* Common style for \"i\" and \"?\" */\n",
       "\n",
       ".sk-estimator-doc-link,\n",
       "a:link.sk-estimator-doc-link,\n",
       "a:visited.sk-estimator-doc-link {\n",
       "  float: right;\n",
       "  font-size: smaller;\n",
       "  line-height: 1em;\n",
       "  font-family: monospace;\n",
       "  background-color: var(--sklearn-color-background);\n",
       "  border-radius: 1em;\n",
       "  height: 1em;\n",
       "  width: 1em;\n",
       "  text-decoration: none !important;\n",
       "  margin-left: 1ex;\n",
       "  /* unfitted */\n",
       "  border: var(--sklearn-color-unfitted-level-1) 1pt solid;\n",
       "  color: var(--sklearn-color-unfitted-level-1);\n",
       "}\n",
       "\n",
       ".sk-estimator-doc-link.fitted,\n",
       "a:link.sk-estimator-doc-link.fitted,\n",
       "a:visited.sk-estimator-doc-link.fitted {\n",
       "  /* fitted */\n",
       "  border: var(--sklearn-color-fitted-level-1) 1pt solid;\n",
       "  color: var(--sklearn-color-fitted-level-1);\n",
       "}\n",
       "\n",
       "/* On hover */\n",
       "div.sk-estimator:hover .sk-estimator-doc-link:hover,\n",
       ".sk-estimator-doc-link:hover,\n",
       "div.sk-label-container:hover .sk-estimator-doc-link:hover,\n",
       ".sk-estimator-doc-link:hover {\n",
       "  /* unfitted */\n",
       "  background-color: var(--sklearn-color-unfitted-level-3);\n",
       "  color: var(--sklearn-color-background);\n",
       "  text-decoration: none;\n",
       "}\n",
       "\n",
       "div.sk-estimator.fitted:hover .sk-estimator-doc-link.fitted:hover,\n",
       ".sk-estimator-doc-link.fitted:hover,\n",
       "div.sk-label-container:hover .sk-estimator-doc-link.fitted:hover,\n",
       ".sk-estimator-doc-link.fitted:hover {\n",
       "  /* fitted */\n",
       "  background-color: var(--sklearn-color-fitted-level-3);\n",
       "  color: var(--sklearn-color-background);\n",
       "  text-decoration: none;\n",
       "}\n",
       "\n",
       "/* Span, style for the box shown on hovering the info icon */\n",
       ".sk-estimator-doc-link span {\n",
       "  display: none;\n",
       "  z-index: 9999;\n",
       "  position: relative;\n",
       "  font-weight: normal;\n",
       "  right: .2ex;\n",
       "  padding: .5ex;\n",
       "  margin: .5ex;\n",
       "  width: min-content;\n",
       "  min-width: 20ex;\n",
       "  max-width: 50ex;\n",
       "  color: var(--sklearn-color-text);\n",
       "  box-shadow: 2pt 2pt 4pt #999;\n",
       "  /* unfitted */\n",
       "  background: var(--sklearn-color-unfitted-level-0);\n",
       "  border: .5pt solid var(--sklearn-color-unfitted-level-3);\n",
       "}\n",
       "\n",
       ".sk-estimator-doc-link.fitted span {\n",
       "  /* fitted */\n",
       "  background: var(--sklearn-color-fitted-level-0);\n",
       "  border: var(--sklearn-color-fitted-level-3);\n",
       "}\n",
       "\n",
       ".sk-estimator-doc-link:hover span {\n",
       "  display: block;\n",
       "}\n",
       "\n",
       "/* \"?\"-specific style due to the `<a>` HTML tag */\n",
       "\n",
       "#sk-container-id-6 a.estimator_doc_link {\n",
       "  float: right;\n",
       "  font-size: 1rem;\n",
       "  line-height: 1em;\n",
       "  font-family: monospace;\n",
       "  background-color: var(--sklearn-color-background);\n",
       "  border-radius: 1rem;\n",
       "  height: 1rem;\n",
       "  width: 1rem;\n",
       "  text-decoration: none;\n",
       "  /* unfitted */\n",
       "  color: var(--sklearn-color-unfitted-level-1);\n",
       "  border: var(--sklearn-color-unfitted-level-1) 1pt solid;\n",
       "}\n",
       "\n",
       "#sk-container-id-6 a.estimator_doc_link.fitted {\n",
       "  /* fitted */\n",
       "  border: var(--sklearn-color-fitted-level-1) 1pt solid;\n",
       "  color: var(--sklearn-color-fitted-level-1);\n",
       "}\n",
       "\n",
       "/* On hover */\n",
       "#sk-container-id-6 a.estimator_doc_link:hover {\n",
       "  /* unfitted */\n",
       "  background-color: var(--sklearn-color-unfitted-level-3);\n",
       "  color: var(--sklearn-color-background);\n",
       "  text-decoration: none;\n",
       "}\n",
       "\n",
       "#sk-container-id-6 a.estimator_doc_link.fitted:hover {\n",
       "  /* fitted */\n",
       "  background-color: var(--sklearn-color-fitted-level-3);\n",
       "}\n",
       "</style><div id=\"sk-container-id-6\" class=\"sk-top-container\"><div class=\"sk-text-repr-fallback\"><pre>KNeighborsClassifier()</pre><b>In a Jupyter environment, please rerun this cell to show the HTML representation or trust the notebook. <br />On GitHub, the HTML representation is unable to render, please try loading this page with nbviewer.org.</b></div><div class=\"sk-container\" hidden><div class=\"sk-item\"><div class=\"sk-estimator fitted sk-toggleable\"><input class=\"sk-toggleable__control sk-hidden--visually\" id=\"sk-estimator-id-6\" type=\"checkbox\" checked><label for=\"sk-estimator-id-6\" class=\"sk-toggleable__label fitted sk-toggleable__label-arrow fitted\">&nbsp;&nbsp;KNeighborsClassifier<a class=\"sk-estimator-doc-link fitted\" rel=\"noreferrer\" target=\"_blank\" href=\"https://scikit-learn.org/1.4/modules/generated/sklearn.neighbors.KNeighborsClassifier.html\">?<span>Documentation for KNeighborsClassifier</span></a><span class=\"sk-estimator-doc-link fitted\">i<span>Fitted</span></span></label><div class=\"sk-toggleable__content fitted\"><pre>KNeighborsClassifier()</pre></div> </div></div></div></div>"
      ],
      "text/plain": [
       "KNeighborsClassifier()"
      ]
     },
     "execution_count": 209,
     "metadata": {},
     "output_type": "execute_result"
    }
   ],
   "source": [
    "model.fit(X_train.values.reshape(-1,1), y_train.values.reshape(-1,1))"
   ]
  },
  {
   "cell_type": "code",
   "execution_count": 210,
   "id": "ffbe080d-d7b5-4ffa-9d31-51f2964cd13c",
   "metadata": {},
   "outputs": [],
   "source": [
    "pred = model.predict(X_test.values.reshape(-1,1))"
   ]
  },
  {
   "cell_type": "code",
   "execution_count": 211,
   "id": "5c82f002-da2b-46da-831e-960d7a8afe11",
   "metadata": {},
   "outputs": [
    {
     "data": {
      "text/plain": [
       "1.0"
      ]
     },
     "execution_count": 211,
     "metadata": {},
     "output_type": "execute_result"
    }
   ],
   "source": [
    "model.score(X_test.values.reshape(-1,1),pred)"
   ]
  },
  {
   "cell_type": "code",
   "execution_count": 214,
   "id": "45c03745-6258-4539-bae5-af90d6c0d4ba",
   "metadata": {},
   "outputs": [
    {
     "data": {
      "text/plain": [
       "0.00024161722462347982"
      ]
     },
     "execution_count": 214,
     "metadata": {},
     "output_type": "execute_result"
    }
   ],
   "source": [
    "model.score(X_test.values.reshape(-1,1), y_test.values.reshape(-1, 1))"
   ]
  },
  {
   "cell_type": "code",
   "execution_count": 190,
   "id": "e64a00bf-3139-4d9f-9eeb-5f6dcb7017ef",
   "metadata": {},
   "outputs": [
    {
     "data": {
      "text/plain": [
       "array([11354.])"
      ]
     },
     "execution_count": 190,
     "metadata": {},
     "output_type": "execute_result"
    }
   ],
   "source": [
    "selling_price = 45000\n",
    "model.predict([[selling_price]])"
   ]
  },
  {
   "cell_type": "code",
   "execution_count": null,
   "id": "c01fdecc-cef9-4eb7-beb8-03f01f06ab76",
   "metadata": {},
   "outputs": [],
   "source": [
    "from sklearn.svm import SVC\n",
    "model = SVC(kernel = 'linear')\n"
   ]
  }
 ],
 "metadata": {
  "kernelspec": {
   "display_name": "Python 3 (ipykernel)",
   "language": "python",
   "name": "python3"
  },
  "language_info": {
   "codemirror_mode": {
    "name": "ipython",
    "version": 3
   },
   "file_extension": ".py",
   "mimetype": "text/x-python",
   "name": "python",
   "nbconvert_exporter": "python",
   "pygments_lexer": "ipython3",
   "version": "3.12.2"
  }
 },
 "nbformat": 4,
 "nbformat_minor": 5
}
