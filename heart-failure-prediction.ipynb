{
 "cells": [
  {
   "cell_type": "markdown",
   "id": "9327bb29-ac67-49fc-a3e6-fd7deb76afe0",
   "metadata": {},
   "source": [
    "# Heart Failure Prediction"
   ]
  },
  {
   "cell_type": "code",
   "execution_count": null,
   "id": "4d3d2219-9a7e-4f4d-aa58-0cecbdc65eca",
   "metadata": {},
   "outputs": [],
   "source": []
  }
 ],
 "metadata": {
  "kernelspec": {
   "display_name": "Python 3 (ipykernel)",
   "language": "python",
   "name": "python3"
  },
  "language_info": {
   "codemirror_mode": {
    "name": "ipython",
    "version": 3
   },
   "file_extension": ".py",
   "mimetype": "text/x-python",
   "name": "python",
   "nbconvert_exporter": "python",
   "pygments_lexer": "ipython3",
   "version": "3.12.2"
  }
 },
 "nbformat": 4,
 "nbformat_minor": 5
}
